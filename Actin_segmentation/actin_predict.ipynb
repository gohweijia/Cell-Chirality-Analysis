{
 "cells": [
  {
   "cell_type": "code",
   "execution_count": 1,
   "metadata": {
    "scrolled": true
   },
   "outputs": [
    {
     "name": "stderr",
     "output_type": "stream",
     "text": [
      "Using TensorFlow backend.\n"
     ]
    }
   ],
   "source": [
    "import os\n",
    "import warnings\n",
    "warnings.simplefilter(action='ignore', category=FutureWarning)\n",
    "import matplotlib.pyplot as plt\n",
    "from models.Unet_Resnet import Unet_Resnet50\n",
    "\n",
    "%load_ext autoreload\n",
    "%autoreload 2"
   ]
  },
  {
   "cell_type": "code",
   "execution_count": 2,
   "metadata": {},
   "outputs": [
    {
     "name": "stdout",
     "output_type": "stream",
     "text": [
      "Loaded config file from C:\\Users\\mbigwj\\Documents\\Cell-Chirality-Analysis-main\\Actin_segmentation\\config\\Unet_Resnet50-20191017T0347-config.yml\n",
      "Updating model_dir to C:\\Users\\mbigwj\\Documents\\Cell-Chirality-Analysis-main\\Actin_segmentation\\config\n",
      "WARNING:tensorflow:From C:\\Users\\mbigwj\\Documents\\Cell-Chirality-Analysis-main\\Actin_segmentation\\models\\CNN_Base.py:128: The name tf.ConfigProto is deprecated. Please use tf.compat.v1.ConfigProto instead.\n",
      "\n",
      "WARNING:tensorflow:From C:\\Users\\mbigwj\\Documents\\Cell-Chirality-Analysis-main\\Actin_segmentation\\models\\CNN_Base.py:130: The name tf.Session is deprecated. Please use tf.compat.v1.Session instead.\n",
      "\n",
      "Unet_Resnet50 2021-01-20 17:39:24.738194\n",
      "WARNING:tensorflow:From c:\\users\\mbigwj\\.conda\\envs\\seg_3\\lib\\site-packages\\keras\\backend\\tensorflow_backend.py:66: The name tf.get_default_graph is deprecated. Please use tf.compat.v1.get_default_graph instead.\n",
      "\n",
      "WARNING:tensorflow:From c:\\users\\mbigwj\\.conda\\envs\\seg_3\\lib\\site-packages\\keras\\backend\\tensorflow_backend.py:541: The name tf.placeholder is deprecated. Please use tf.compat.v1.placeholder instead.\n",
      "\n",
      "WARNING:tensorflow:From c:\\users\\mbigwj\\.conda\\envs\\seg_3\\lib\\site-packages\\keras\\backend\\tensorflow_backend.py:4479: The name tf.truncated_normal is deprecated. Please use tf.random.truncated_normal instead.\n",
      "\n",
      "WARNING:tensorflow:From c:\\users\\mbigwj\\.conda\\envs\\seg_3\\lib\\site-packages\\keras\\backend\\tensorflow_backend.py:2041: The name tf.nn.fused_batch_norm is deprecated. Please use tf.compat.v1.nn.fused_batch_norm instead.\n",
      "\n",
      "WARNING:tensorflow:From c:\\users\\mbigwj\\.conda\\envs\\seg_3\\lib\\site-packages\\keras\\backend\\tensorflow_backend.py:4267: The name tf.nn.max_pool is deprecated. Please use tf.nn.max_pool2d instead.\n",
      "\n",
      "WARNING:tensorflow:From c:\\users\\mbigwj\\.conda\\envs\\seg_3\\lib\\site-packages\\keras\\backend\\tensorflow_backend.py:3733: calling dropout (from tensorflow.python.ops.nn_ops) with keep_prob is deprecated and will be removed in a future version.\n",
      "Instructions for updating:\n",
      "Please use `rate` instead of `keep_prob`. Rate should be set to `rate = 1 - keep_prob`.\n",
      "WARNING:tensorflow:From c:\\users\\mbigwj\\.conda\\envs\\seg_3\\lib\\site-packages\\keras\\backend\\tensorflow_backend.py:2239: The name tf.image.resize_nearest_neighbor is deprecated. Please use tf.compat.v1.image.resize_nearest_neighbor instead.\n",
      "\n",
      "Predicting using single GPU or CPU..\n",
      "Using 1 - Dice + BCE loss\n",
      "WARNING:tensorflow:From c:\\users\\mbigwj\\.conda\\envs\\seg_3\\lib\\site-packages\\keras\\optimizers.py:793: The name tf.train.Optimizer is deprecated. Please use tf.compat.v1.train.Optimizer instead.\n",
      "\n",
      "WARNING:tensorflow:From c:\\users\\mbigwj\\.conda\\envs\\seg_3\\lib\\site-packages\\tensorflow\\python\\ops\\nn_impl.py:180: add_dispatch_support.<locals>.wrapper (from tensorflow.python.ops.array_ops) is deprecated and will be removed in a future version.\n",
      "Instructions for updating:\n",
      "Use tf.where in 2.0, which has the same broadcast rule as np.where\n",
      "Loaded weights from: C:\\Users\\mbigwj\\Documents\\Cell-Chirality-Analysis-main\\Actin_segmentation\\config\\Unet_Resnet50-20191017T0347_0155.h5\n"
     ]
    }
   ],
   "source": [
    "model_dir = os.path.join(os.getcwd(), 'config')\n",
    "unet_model = Unet_Resnet50(model_dir = model_dir,\n",
    "                           visible_gpu = 0,\n",
    "                           config_filepath=os.path.join(model_dir, 'Unet_Resnet50-20191017T0347-config.yml'),\n",
    "                           for_prediction=True, \n",
    "                           tile_size = [512,512]\n",
    "                          )\n",
    "unet_model.initialize_model()\n",
    "unet_model.load_weights(os.path.join(model_dir, 'Unet_Resnet50-20191017T0347_0155.h5'))\n"
   ]
  },
  {
   "cell_type": "code",
   "execution_count": 6,
   "metadata": {
    "scrolled": true
   },
   "outputs": [
    {
     "data": {
      "text/plain": [
       "['Control', 'siINF2']"
      ]
     },
     "execution_count": 6,
     "metadata": {},
     "output_type": "execute_result"
    }
   ],
   "source": [
    "root = '../Test_data'\n",
    "os.listdir(root)\n"
   ]
  },
  {
   "cell_type": "code",
   "execution_count": 7,
   "metadata": {
    "scrolled": true
   },
   "outputs": [
    {
     "name": "stdout",
     "output_type": "stream",
     "text": [
      "../Test_data\\Control\\actin\n",
      "1/1 [==============================] - 9s 9s/step\n",
      "1/1 [==============================] - 7s 7s/step\n",
      "1/1 [==============================] - 7s 7s/step\n",
      "1/1 [==============================] - 7s 7s/step\n",
      "1/1 [==============================] - 7s 7s/step\n",
      "../Test_data\\siINF2\\actin\n",
      "1/1 [==============================] - 7s 7s/step\n",
      "1/1 [==============================] - 7s 7s/step\n",
      "1/1 [==============================] - 7s 7s/step\n",
      "1/1 [==============================] - 7s 7s/step\n",
      "1/1 [==============================] - 7s 7s/step\n",
      "Done\n"
     ]
    }
   ],
   "source": [
    "#  Check incomplete segmentation\n",
    "warnings.simplefilter(action='ignore', category=UserWarning)\n",
    "exceptions = []\n",
    "\n",
    "actin_folders = sorted([i for i, _, _ in os.walk(root) if i.endswith('actin')])\n",
    "for folder in actin_folders:\n",
    "    maskdir = os.path.join(folder, 'Masks/Unet_Resnet50-20191017T0347_0155')\n",
    "    try:  \n",
    "        print(folder)\n",
    "        temp = unet_model.predict_images(folder)\n",
    "    except Exception as e:\n",
    "        exceptions.append((e, folder))\n",
    "\n",
    "if exceptions:\n",
    "    for exception, folder in exceptions:\n",
    "        print(exception, folder)\n",
    "\n",
    "print(\"Done\")\n",
    "       "
   ]
  },
  {
   "cell_type": "code",
   "execution_count": 10,
   "metadata": {},
   "outputs": [
    {
     "name": "stdout",
     "output_type": "stream",
     "text": [
      "WARNING:tensorflow:From /gpfs0/home/mbigwj/Documents/WJ_analysis/Actin_segmentation_pub/models/CNN_Base.py:269: The name tf.reset_default_graph is deprecated. Please use tf.compat.v1.reset_default_graph instead.\n",
      "\n"
     ]
    }
   ],
   "source": [
    "unet_model.end_training()"
   ]
  },
  {
   "cell_type": "code",
   "execution_count": null,
   "metadata": {},
   "outputs": [],
   "source": []
  }
 ],
 "metadata": {
  "kernelspec": {
   "display_name": "Python 3",
   "language": "python",
   "name": "python3"
  },
  "language_info": {
   "codemirror_mode": {
    "name": "ipython",
    "version": 3
   },
   "file_extension": ".py",
   "mimetype": "text/x-python",
   "name": "python",
   "nbconvert_exporter": "python",
   "pygments_lexer": "ipython3",
   "version": "3.6.12"
  }
 },
 "nbformat": 4,
 "nbformat_minor": 4
}
