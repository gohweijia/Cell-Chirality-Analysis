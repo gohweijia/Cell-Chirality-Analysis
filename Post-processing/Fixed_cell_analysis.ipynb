{
 "cells": [
  {
   "cell_type": "code",
   "execution_count": null,
   "metadata": {},
   "outputs": [],
   "source": [
    "import os, cv2\n",
    "import pandas as pd\n",
    "import numpy as np\n",
    "import matplotlib.pyplot as plt\n",
    "import seaborn as sns\n",
    "%matplotlib inline\n",
    "plt.style.use('seaborn')\n",
    "from tqdm import tqdm"
   ]
  },
  {
   "cell_type": "code",
   "execution_count": null,
   "metadata": {
    "scrolled": true
   },
   "outputs": [],
   "source": [
    "\"\"\"\n",
    "This notebook should only be run after:\n",
    "1) Fiji pre-processing (sorting of images into 'actin' folder)\n",
    "2) Segmentation using ResNet50\n",
    "3) MATLAB analysis\n",
    "\"\"\"\n",
    "\n",
    "rootdir = '../Test_data' \n",
    "output_folder = 'output'  #  Folder will be created in same directory as notebook\n",
    "\n",
    "\n",
    "#  Find folders that have been segmented\n",
    "folders = [i for i,d,_ in os.walk(rootdir, topdown=True) \n",
    "           if os.path.basename(i).endswith('actin')\n",
    "           if '14_18' in os.listdir(i)\n",
    "           if 'live_data' not in i]\n",
    "\n",
    "actin_folders = []\n",
    "for folder in folders:\n",
    "    csv_path = os.path.join(folder, '14_18', 'Results.csv')\n",
    "    if os.path.isfile(csv_path):\n",
    "        df = pd.read_csv(csv_path)\n",
    "        if len(list(df.columns)) != 8:\n",
    "            print(f\"Warning: {csv_path} contains less data than expected.\")\n",
    "    actin_folders.append(folder)"
   ]
  },
  {
   "cell_type": "code",
   "execution_count": null,
   "metadata": {
    "scrolled": true
   },
   "outputs": [],
   "source": [
    "\"\"\"\n",
    "Get only fixed samples. \n",
    "Omit folders that contain cell indices eg. \"0001\", \"0002\" etc. (typical of live samples)\n",
    "\n",
    "\"\"\"\n",
    "folders = []\n",
    "for folder in actin_folders:\n",
    "    base_folder = folder.strip('actin')[:-1]\n",
    "    try:\n",
    "        int(os.path.basename(base_folder))\n",
    "    except:\n",
    "        folders.append(base_folder)\n",
    "folders = sorted(folders)    \n",
    "treatments = [os.path.basename(i) for i in folders]"
   ]
  },
  {
   "cell_type": "code",
   "execution_count": null,
   "metadata": {
    "scrolled": true
   },
   "outputs": [],
   "source": [
    "for folder, treatment in zip(folders, treatments):\n",
    "    print(treatment, folder)"
   ]
  },
  {
   "cell_type": "code",
   "execution_count": null,
   "metadata": {},
   "outputs": [],
   "source": [
    "def process_ring(dist_from_edge, ring_width_micron=4, folder_list=folders, treatments=treatments):\n",
    "    folder_string = f\"{dist_from_edge}_{dist_from_edge + ring_width_micron}\"\n",
    "    df_list = []\n",
    "    for folder, treatment in zip(folder_list, treatments):\n",
    "        csvpath = os.path.join(folder, 'actin', folder_string, 'Results.csv')\n",
    "        if not os.path.isfile(csvpath):\n",
    "            print(f\"CSV path error: {folder}\")\n",
    "        temp = pd.read_csv(csvpath, index_col=None)\n",
    "        temp[\"Treatment\"] = treatment\n",
    "        df_list.append(temp)\n",
    "    df = pd.concat(df_list)\n",
    "    df.columns = ['File_index', 'Fiber_ID', 'Raw_angle', 'Edge_x', 'Edge_y', 'Cell_area', 'Cell_x', 'Cell_y', 'Treatment']\n",
    "    df = df.loc[np.abs(df.Raw_angle) <= 68].copy()  #  Omit obvious transverse/ventral fibres\n",
    "    df = df.dropna()\n",
    "    \n",
    "    if len(df) == 0:\n",
    "        print(f'empty df: {folder_string}')\n",
    "        return None\n",
    "    \n",
    "    #  Omit cells with overly large or small cell masks (> 2000 microns square, <1700 microns square)\n",
    "    min_area = 1700 / np.square(pixel_size)\n",
    "    max_area = 2100 / np.square(pixel_size)  #  2000 --> 2100\n",
    "    df = df.loc[(df.Cell_area < max_area) & (df.Cell_area > min_area)]\n",
    "    \n",
    "    #  Cell-centroid to RF segment peripheral endpoint distance  (h_i)\n",
    "    df['CentroidEdge_distance'] = np.sqrt(\n",
    "        np.square(df.Cell_x - df.Edge_x) \n",
    "        + np.square(df.Cell_y - df.Edge_y))\n",
    "    \n",
    "    #  To correct for the inflation of cell area due to lamellopidia, reduce cell area by 63.353µm^2\n",
    "    #  which is the average difference between measured and expected cell area. \n",
    "    df['Cell_radius'] = np.sqrt(\n",
    "        (df.Cell_area - (63.353 / pixel_size ** 2)) / np.pi)  # in pixels\n",
    "    df['Angle'] = np.rad2deg(np.arcsin(\n",
    "        df.CentroidEdge_distance * np.sin(np.deg2rad(df.Raw_angle)) / df.Cell_radius))\n",
    "    return df"
   ]
  },
  {
   "cell_type": "code",
   "execution_count": null,
   "metadata": {},
   "outputs": [],
   "source": [
    "ring_outer_range = np.arange(0, 16, 2)  #  0, 2, 4, ..., 14\n",
    "ring_width = 4\n",
    "pixel_size = 0.138502  # µm/pixel\n",
    "means = pd.DataFrame() \n",
    "counts = pd.DataFrame()\n",
    "for ring_outer in tqdm(ring_outer_range):  \n",
    "    df_ring = process_ring(dist_from_edge=ring_outer, ring_width_micron=ring_width)  #  Get data from ring\n",
    "    group = df_ring.groupby(['Treatment', 'File_index'])\n",
    "    means[f'{ring_outer}-{ring_outer + ring_width}µm'] = group.mean().Angle  # Add mean data to dataframe\n",
    "    counts[f'{ring_outer}-{ring_outer + ring_width}µm'] = group.count().Angle\n",
    "\n",
    "means = means.reset_index()\n",
    "counts = counts.fillna(0).reset_index()"
   ]
  },
  {
   "cell_type": "code",
   "execution_count": null,
   "metadata": {
    "scrolled": true
   },
   "outputs": [],
   "source": [
    "#  Check output\n",
    "print(means.head())\n",
    "print(\"\\nTreatments: \")\n",
    "for treatment in means.Treatment.unique():\n",
    "    print(treatment)"
   ]
  },
  {
   "cell_type": "code",
   "execution_count": null,
   "metadata": {},
   "outputs": [],
   "source": [
    "ind_output_folder = os.path.join(output_folder, 'CSVs')\n",
    "os.makedirs(ind_output_folder, exist_ok=True)\n",
    "cols = [i for i in means.columns if i.endswith('µm')]\n",
    "\n",
    "#  Save summary output\n",
    "means.to_csv(os.path.join(output_folder, 'All_angles_data.csv'), index=False)\n",
    "g = means.groupby('Treatment')\n",
    "g.mean()[cols].reset_index().to_csv(os.path.join(output_folder, 'Means.csv'), index=False)\n",
    "g.std()[cols].reset_index().to_csv(os.path.join(output_folder, 'Std.csv'), index=False)\n",
    "g.sem()[cols].reset_index().to_csv(os.path.join(output_folder, 'Sem.csv'), index=False)\n",
    "\n",
    "#  Save data in CSVs sorted by treatment\n",
    "for treatment in treatments:\n",
    "    save_path = os.path.join(ind_output_folder, f\"{treatment}.csv\")\n",
    "    g.get_group(treatment).to_csv(save_path, index=False)"
   ]
  },
  {
   "cell_type": "code",
   "execution_count": null,
   "metadata": {},
   "outputs": [],
   "source": [
    "count_output_folder = os.path.join(output_folder, 'Count')\n",
    "count_ind_output_folder = os.path.join(count_output_folder, 'CSVs')\n",
    "os.makedirs(count_ind_output_folder, exist_ok=True)\n",
    "\n",
    "#  Save summary count output\n",
    "counts.to_csv(os.path.join(count_output_folder, 'All_counts_data.csv'), index=False)\n",
    "g_counts = counts.groupby('Treatment')\n",
    "g_counts.mean()[cols].to_csv(os.path.join(count_output_folder, 'Count_means.csv'), index=False)\n",
    "g_counts.std()[cols].to_csv(os.path.join(count_output_folder, 'Count_std.csv'), index=False)\n",
    "g_counts.sem()[cols].to_csv(os.path.join(count_output_folder, 'Count_sem.csv'), index=False)\n",
    "\n",
    "#  Save data in CSVs sorted by treatment\n",
    "for treatment in treatments:\n",
    "    save_path = os.path.join(count_ind_output_folder, f\"{treatment}.csv\")\n",
    "    g_counts.get_group(treatment).to_csv(save_path, index=False)"
   ]
  },
  {
   "cell_type": "code",
   "execution_count": null,
   "metadata": {},
   "outputs": [],
   "source": []
  }
 ],
 "metadata": {
  "kernelspec": {
   "display_name": "Python 3",
   "language": "python",
   "name": "python3"
  },
  "language_info": {
   "codemirror_mode": {
    "name": "ipython",
    "version": 3
   },
   "file_extension": ".py",
   "mimetype": "text/x-python",
   "name": "python",
   "nbconvert_exporter": "python",
   "pygments_lexer": "ipython3",
   "version": "3.6.7"
  }
 },
 "nbformat": 4,
 "nbformat_minor": 4
}